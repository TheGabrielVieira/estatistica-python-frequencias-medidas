{
 "cells": [
  {
   "cell_type": "markdown",
   "id": "e0317ecd",
   "metadata": {},
   "source": [
    "# Identificando Dados Qualitativos Nominais e Ordinais em Números\n",
    "\n",
    "Em análise de dados, é comum encontrar variáveis numéricas que, na verdade, representam categorias. Por exemplo, códigos de identificação, classificações ou respostas de pesquisas codificadas numericamente. Essas variáveis são qualitativas e podem ser de dois tipos principais:\n",
    "\n",
    "- **Nominais:** Categorias sem uma ordem lógica, como gêneros (1 = Masculino, 2 = Feminino) ou departamentos (1 = TI, 2 = RH, 3 = Marketing).\n",
    "- **Ordinais:** Categorias com uma ordem natural, como níveis de satisfação (1 = Insatisfeito, 2 = Neutro, 3 = Satisfeito).\n",
    "\n",
    "Tratar adequadamente essas variáveis é essencial para evitar erros, como realizar operações matemáticas em dados que representam categorias. Em Python, podemos usar a biblioteca **pandas** para tratar essas variáveis corretamente, especialmente com o tipo `Categorical` para variáveis ordinais.\n",
    "\n",
    "## O que é um Categorical?\n",
    "\n",
    "Em Python, o `Categorical` do pandas é usado para representar variáveis categóricas. Ele permite armazenar as categorias de forma eficiente e, no caso de variáveis ordinais, definir uma ordem específica para elas. Isso facilita a manipulação e análise dos dados.\n",
    "\n",
    "## Exemplo\n",
    "\n",
    "Uma empresa realiza uma pesquisa de satisfação com clientes e coleta os seguintes dados:\n",
    "\n",
    "- `cliente_id`: Número de identificação do cliente (nominal).\n",
    "- `nivel_satisfacao`: Respostas codificadas como 1 (Insatisfeito), 2 (Neutro), 3 (Satisfeito) (ordinal).\n",
    "\n",
    "O objetivo é transformar essas variáveis corretamente utilizando `Categorical` e visualizar a alteração. Podemos fazer isso da seguinte forma:"
   ]
  },
  {
   "cell_type": "code",
   "execution_count": 2,
   "id": "121ddf31",
   "metadata": {},
   "outputs": [],
   "source": [
    "# Importando o pacote\n",
    "import pandas as pd"
   ]
  },
  {
   "cell_type": "code",
   "execution_count": 3,
   "id": "75b3c4da",
   "metadata": {},
   "outputs": [],
   "source": [
    "# DataFrame de exemplo\n",
    "dados = pd.DataFrame({\n",
    "    'cliente_id': [101, 102, 103, 104, 105],\n",
    "    'nivel_satisfacao': [3, 2, 1, 3, 2]\n",
    "})"
   ]
  },
  {
   "cell_type": "code",
   "execution_count": null,
   "id": "2c7ea9bf",
   "metadata": {},
   "outputs": [],
   "source": [
    "# Convertendo nivel_satisfacao em uma categoria ordinal\n",
    "dados['nivel_satisfacao'] = pd.Categorical(\n",
    "    dados['nivel_satisfacao'],\n",
    "    categories=[1, 2, 3],\n",
    "    ordered=True\n",
    ")\n",
    "\n",
    "avaliacao_labels = {1: 'Insatisfeito', 2: 'Neutro', 3: 'Satisfeito'}\n",
    "dados['nivel_satisfacao'] = dados['nivel_satisfacao'].map(avaliacao_labels)"
   ]
  },
  {
   "cell_type": "code",
   "execution_count": 8,
   "id": "c7f09ce0",
   "metadata": {},
   "outputs": [
    {
     "data": {
      "text/html": [
       "<div>\n",
       "<style scoped>\n",
       "    .dataframe tbody tr th:only-of-type {\n",
       "        vertical-align: middle;\n",
       "    }\n",
       "\n",
       "    .dataframe tbody tr th {\n",
       "        vertical-align: top;\n",
       "    }\n",
       "\n",
       "    .dataframe thead th {\n",
       "        text-align: right;\n",
       "    }\n",
       "</style>\n",
       "<table border=\"1\" class=\"dataframe\">\n",
       "  <thead>\n",
       "    <tr style=\"text-align: right;\">\n",
       "      <th></th>\n",
       "      <th>cliente_id</th>\n",
       "      <th>nivel_satisfacao</th>\n",
       "    </tr>\n",
       "  </thead>\n",
       "  <tbody>\n",
       "    <tr>\n",
       "      <th>0</th>\n",
       "      <td>101</td>\n",
       "      <td>Satisfeito</td>\n",
       "    </tr>\n",
       "    <tr>\n",
       "      <th>3</th>\n",
       "      <td>104</td>\n",
       "      <td>Satisfeito</td>\n",
       "    </tr>\n",
       "    <tr>\n",
       "      <th>1</th>\n",
       "      <td>102</td>\n",
       "      <td>Neutro</td>\n",
       "    </tr>\n",
       "    <tr>\n",
       "      <th>4</th>\n",
       "      <td>105</td>\n",
       "      <td>Neutro</td>\n",
       "    </tr>\n",
       "    <tr>\n",
       "      <th>2</th>\n",
       "      <td>103</td>\n",
       "      <td>Insatisfeito</td>\n",
       "    </tr>\n",
       "  </tbody>\n",
       "</table>\n",
       "</div>"
      ],
      "text/plain": [
       "   cliente_id nivel_satisfacao\n",
       "0         101       Satisfeito\n",
       "3         104       Satisfeito\n",
       "1         102           Neutro\n",
       "4         105           Neutro\n",
       "2         103     Insatisfeito"
      ]
     },
     "execution_count": 8,
     "metadata": {},
     "output_type": "execute_result"
    }
   ],
   "source": [
    "# Ordenando os dados pela coluna 'nivel_satisfacao'\n",
    "dados_sorted = dados.sort_values('nivel_satisfacao', ascending=False)\n",
    "\n",
    "dados_sorted"
   ]
  },
  {
   "cell_type": "markdown",
   "id": "5679a9eb",
   "metadata": {},
   "source": [
    "Note que ordenamos os dados de forma decrescente pelo `nivel_satisfacao`, e o `Categorical` reconheceu a ordem definida nas categorias (de Satisfeito a Insatisfeito) com base no parâmetro `ordered=True`.\n",
    "\n",
    "## Aplicações do Categorical\n",
    "\n",
    "O Categorical pode auxiliar em diversas situações na ciência de dados e análise com Python, como:\n",
    "\n",
    "- **Análise Estatística:** Para definir variáveis categóricas e quais estatísticas descritivas aplicar nesses casos.\n",
    "- **Visualização de Dados:** Facilita a criação de gráficos categóricos, como gráficos de barras, usando bibliotecas como Matplotlib e Seaborn.\n",
    "- **Machine Learning:** Prepara variáveis categóricas para algoritmos que não aceitam dados numéricos diretamente.\n",
    "- **Manipulação de Dados:** Permite ordenações e agrupamentos em tabelas e relatórios.\n",
    "\n",
    "Logo, transformar variáveis numéricas que expressam variáveis categóricas em `Categorical` garante maior precisão e facilita a interpretação em análises qualitativas."
   ]
  }
 ],
 "metadata": {
  "kernelspec": {
   "display_name": "Python (venv)",
   "language": "python",
   "name": "venv"
  },
  "language_info": {
   "codemirror_mode": {
    "name": "ipython",
    "version": 3
   },
   "file_extension": ".py",
   "mimetype": "text/x-python",
   "name": "python",
   "nbconvert_exporter": "python",
   "pygments_lexer": "ipython3",
   "version": "3.13.1"
  }
 },
 "nbformat": 4,
 "nbformat_minor": 5
}
